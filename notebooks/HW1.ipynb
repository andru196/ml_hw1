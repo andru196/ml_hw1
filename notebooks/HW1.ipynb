{
 "cells": [
  {
   "cell_type": "code",
   "execution_count": 61,
   "id": "cf54baf8",
   "metadata": {},
   "outputs": [],
   "source": [
    "import pandas as pd\n",
    "import numpy as np\n",
    "import matplotlib.pyplot as plt\n",
    "import seaborn as sns\n",
    "import datetime\n",
    "from sklearn.model_selection import KFold\n",
    "from sklearn.metrics import mean_squared_error, mean_squared_log_error"
   ]
  },
  {
   "cell_type": "code",
   "execution_count": 2,
   "id": "7ca0a4ba",
   "metadata": {},
   "outputs": [],
   "source": [
    "train = pd.read_csv('../data/raw/train.csv')"
   ]
  },
  {
   "cell_type": "code",
   "execution_count": 3,
   "id": "f31987ae",
   "metadata": {},
   "outputs": [],
   "source": [
    "test = pd.read_csv('../data/raw/test.csv')"
   ]
  },
  {
   "cell_type": "code",
   "execution_count": 4,
   "id": "90bb1793",
   "metadata": {},
   "outputs": [],
   "source": [
    "train[\"dt\"] = pd.to_datetime(train.timestamp)"
   ]
  },
  {
   "cell_type": "code",
   "execution_count": 7,
   "id": "77036374",
   "metadata": {},
   "outputs": [],
   "source": [
    "from sklearn.linear_model import SGDRegressor"
   ]
  },
  {
   "cell_type": "code",
   "execution_count": 8,
   "id": "9dde0434",
   "metadata": {},
   "outputs": [],
   "source": [
    "def reload_data():\n",
    "    global train\n",
    "    train = pd.read_csv('../data/raw/train.csv')\n",
    "    global test\n",
    "    test = pd.read_csv('../data/raw/test.csv')\n",
    "    \n",
    "def prepare_data(x1, x2=None):\n",
    "    global train\n",
    "    train = x1(train)\n",
    "    if x2 != None:\n",
    "        global test\n",
    "        test = x2(test)"
   ]
  },
  {
   "cell_type": "code",
   "execution_count": 9,
   "id": "5540d202",
   "metadata": {},
   "outputs": [],
   "source": [
    "prepare_data(lambda df: df[df['full_sq'] > 8])\n",
    "prepare_data(lambda df: df[df['price_doc'] > 2000000])"
   ]
  },
  {
   "cell_type": "code",
   "execution_count": 10,
   "id": "a863958a",
   "metadata": {},
   "outputs": [],
   "source": [
    "test.full_sq = np.where((test.full_sq < test.life_sq) & ((test.full_sq < 8) | (3 > (test.life_sq / test.full_sq))), test.life_sq, test.full_sq)"
   ]
  },
  {
   "cell_type": "code",
   "execution_count": 11,
   "id": "d606f056",
   "metadata": {},
   "outputs": [],
   "source": [
    "train['price_per_m2'] = train['price_doc'] / train['full_sq']"
   ]
  },
  {
   "cell_type": "code",
   "execution_count": 12,
   "id": "28b5771d",
   "metadata": {},
   "outputs": [],
   "source": [
    "\n",
    "def comp_mse(df, features):\n",
    "    kf = KFold(n_splits=5, shuffle=True) #random_state=42)\n",
    "    target = \"price_per_m2\"\n",
    "\n",
    "    msle_list = []\n",
    "    mse_list = []\n",
    "    for i, (train_index, val_index) in enumerate(kf.split(df)):    \n",
    "        train_part = df.iloc[train_index, : ]\n",
    "        val_part = df.iloc[val_index, :]\n",
    "        model = SGDRegressor()\n",
    "        model.fit(X=train_part[features].fillna(0), y = train_part[target])\n",
    "\n",
    "        val_predication = model.predict(val_part[features].fillna(0)).clip(0, 100000000000)\n",
    "\n",
    "        mse = mean_squared_error(val_predication, val_part[target])\n",
    "        msle = mean_squared_log_error(val_predication, val_part[target])\n",
    "\n",
    "        pirce_mse = mean_squared_error(val_predication * val_part['full_sq'], val_part['price_doc'])\n",
    "        pirce_msle = mean_squared_log_error(val_predication * val_part['full_sq'], val_part['price_doc'])\n",
    "\n",
    "        print(f'Fold full {i}: msle {pirce_msle}, mse {pirce_mse}')\n",
    "        msle_list.append(pirce_msle)\n",
    "        mse_list.append(pirce_mse)\n",
    "        \n",
    "    print(f'MSLE average = {np.mean(msle_list)}, std = {np.std(msle_list)}')"
   ]
  },
  {
   "cell_type": "code",
   "execution_count": 13,
   "id": "353d5588",
   "metadata": {},
   "outputs": [],
   "source": [
    "def predict_n_write_csv(features, path=\"predict1.csv\"):\n",
    "    target = \"price_per_m2\"\n",
    "    \n",
    "    model = SGDRegressor()\n",
    "    model.fit(X=train[features].fillna(0.0), y = train[target])\n",
    "    \n",
    "    test[target] = model.predict(test[features].fillna(0))\n",
    "    sample_submission = pd.read_csv(\"../data/raw/sample_submission.csv\")\n",
    "    sample_submission['price_doc'] = (test[target] * test['full_sq']).clip(0, 100000000000)\n",
    "    sample_submission.to_csv(path, index= False)"
   ]
  },
  {
   "cell_type": "code",
   "execution_count": 14,
   "id": "d679af66",
   "metadata": {},
   "outputs": [
    {
     "name": "stdout",
     "output_type": "stream",
     "text": [
      "Fold full 0: msle 1.3637211340781583, mse 112990944882230.06\n",
      "Fold full 1: msle 1.4870872142583471, mse 12227482469764.57\n",
      "Fold full 2: msle 0.12926175534008472, mse 14537524871996.666\n",
      "Fold full 3: msle 0.2251036948731338, mse 11265201659956.46\n",
      "Fold full 4: msle 0.4347932597188855, mse 15362006618809.928\n",
      "MSLE average = 0.7279934116537219, std = 0.5792611036177129\n"
     ]
    }
   ],
   "source": [
    "features = [\"metro_km_walk\"]\n",
    "comp_mse(train, features)\n",
    "predict_n_write_csv(features, \"metro_km.csv\")"
   ]
  },
  {
   "cell_type": "markdown",
   "id": "4924d1b1",
   "metadata": {},
   "source": [
    "# Score 1.78762"
   ]
  },
  {
   "cell_type": "code",
   "execution_count": 15,
   "id": "e46b1f58",
   "metadata": {},
   "outputs": [
    {
     "name": "stdout",
     "output_type": "stream",
     "text": [
      "Fold full 0: msle 0.27894787993480724, mse 9221292446956.855\n",
      "Fold full 1: msle 0.44824490756617097, mse 14388472864152.67\n",
      "Fold full 2: msle 0.11953509955735678, mse 10618259156312.473\n",
      "Fold full 3: msle 0.45396489905671644, mse 9790424742696.045\n",
      "Fold full 4: msle 0.42065314295924583, mse 103516113870348.95\n",
      "MSLE average = 0.3442691858148595, std = 0.1291904730653552\n"
     ]
    }
   ],
   "source": [
    "features = [\"kremlin_km\"]\n",
    "comp_mse(train, features)\n",
    "predict_n_write_csv(features, \"kremlin_km.csv\")"
   ]
  },
  {
   "cell_type": "markdown",
   "id": "71e4d027",
   "metadata": {},
   "source": [
    "# Score 0.37692"
   ]
  },
  {
   "cell_type": "code",
   "execution_count": 17,
   "id": "e4997b2f",
   "metadata": {},
   "outputs": [
    {
     "name": "stdout",
     "output_type": "stream",
     "text": [
      "Fold full 0: msle 0.32540061354976485, mse 11306573341790.703\n",
      "Fold full 1: msle 0.10550611108881205, mse 13237541300972.482\n",
      "Fold full 2: msle 1.2152564145519986, mse 11690462826008.979\n",
      "Fold full 3: msle 0.1049512938216981, mse 105074252868778.25\n",
      "Fold full 4: msle 0.6049344165480031, mse 8352905912240.633\n",
      "MSLE average = 0.4712097699120553, std = 0.4148812933796095\n"
     ]
    }
   ],
   "source": [
    "features = [\"metro_km_walk\", \"kremlin_km\", \"leisure_count_500\"]\n",
    "comp_mse(train, features)\n",
    "predict_n_write_csv(features, \"m_k_l.csv\")"
   ]
  },
  {
   "cell_type": "markdown",
   "id": "b2b11b7d",
   "metadata": {},
   "source": [
    "# Score 0.37409"
   ]
  },
  {
   "cell_type": "markdown",
   "id": "53a9eb27",
   "metadata": {},
   "source": [
    "делаем финт ушами, чтобы для разных км были разные веса"
   ]
  },
  {
   "cell_type": "code",
   "execution_count": 18,
   "id": "9ca4d4fa",
   "metadata": {},
   "outputs": [],
   "source": [
    "import math\n",
    "def preparator(df):\n",
    "    min = 5\n",
    "    max = math.ceil(df.kremlin_km.max())\n",
    "    rez = df.copy()\n",
    "    for i in range(min, max, 10):\n",
    "        j = i - 10\n",
    "        cp = df[df['kremlin_km'] < i]\n",
    "        cp = cp[cp['kremlin_km'] > j]\n",
    "        rez = rez.join(other=cp,rsuffix=\"_\"+str(i))\n",
    "    return rez"
   ]
  },
  {
   "cell_type": "code",
   "execution_count": 96,
   "id": "88e2f6cf",
   "metadata": {
    "scrolled": true
   },
   "outputs": [
    {
     "data": {
      "text/html": [
       "<div>\n",
       "<style scoped>\n",
       "    .dataframe tbody tr th:only-of-type {\n",
       "        vertical-align: middle;\n",
       "    }\n",
       "\n",
       "    .dataframe tbody tr th {\n",
       "        vertical-align: top;\n",
       "    }\n",
       "\n",
       "    .dataframe thead th {\n",
       "        text-align: right;\n",
       "    }\n",
       "</style>\n",
       "<table border=\"1\" class=\"dataframe\">\n",
       "  <thead>\n",
       "    <tr style=\"text-align: right;\">\n",
       "      <th></th>\n",
       "      <th>id</th>\n",
       "      <th>timestamp</th>\n",
       "      <th>full_sq</th>\n",
       "      <th>life_sq</th>\n",
       "      <th>floor</th>\n",
       "      <th>max_floor</th>\n",
       "      <th>material</th>\n",
       "      <th>build_year</th>\n",
       "      <th>num_room</th>\n",
       "      <th>kitch_sq</th>\n",
       "      <th>...</th>\n",
       "      <th>cafe_count_5000_price_1500</th>\n",
       "      <th>cafe_count_5000_price_2500</th>\n",
       "      <th>cafe_count_5000_price_4000</th>\n",
       "      <th>cafe_count_5000_price_high</th>\n",
       "      <th>big_church_count_5000</th>\n",
       "      <th>church_count_5000</th>\n",
       "      <th>mosque_count_5000</th>\n",
       "      <th>leisure_count_5000</th>\n",
       "      <th>sport_count_5000</th>\n",
       "      <th>market_count_5000</th>\n",
       "    </tr>\n",
       "  </thead>\n",
       "  <tbody>\n",
       "    <tr>\n",
       "      <th>247</th>\n",
       "      <td>30721</td>\n",
       "      <td>2015-07-18</td>\n",
       "      <td>15.9</td>\n",
       "      <td>15.9</td>\n",
       "      <td>5</td>\n",
       "      <td>5</td>\n",
       "      <td>2</td>\n",
       "      <td>1957.0</td>\n",
       "      <td>1</td>\n",
       "      <td>8.9</td>\n",
       "      <td>...</td>\n",
       "      <td>275</td>\n",
       "      <td>138</td>\n",
       "      <td>44</td>\n",
       "      <td>8</td>\n",
       "      <td>73</td>\n",
       "      <td>120</td>\n",
       "      <td>1</td>\n",
       "      <td>41</td>\n",
       "      <td>128</td>\n",
       "      <td>11</td>\n",
       "    </tr>\n",
       "  </tbody>\n",
       "</table>\n",
       "<p>1 rows × 291 columns</p>\n",
       "</div>"
      ],
      "text/plain": [
       "        id   timestamp  full_sq  life_sq  floor  max_floor  material  \\\n",
       "247  30721  2015-07-18     15.9     15.9      5          5         2   \n",
       "\n",
       "     build_year  num_room  kitch_sq  ...  cafe_count_5000_price_1500  \\\n",
       "247      1957.0         1       8.9  ...                         275   \n",
       "\n",
       "    cafe_count_5000_price_2500 cafe_count_5000_price_4000  \\\n",
       "247                        138                         44   \n",
       "\n",
       "     cafe_count_5000_price_high  big_church_count_5000  church_count_5000  \\\n",
       "247                           8                     73                120   \n",
       "\n",
       "     mosque_count_5000  leisure_count_5000  sport_count_5000  \\\n",
       "247                  1                  41               128   \n",
       "\n",
       "     market_count_5000  \n",
       "247                 11  \n",
       "\n",
       "[1 rows x 291 columns]"
      ]
     },
     "execution_count": 96,
     "metadata": {},
     "output_type": "execute_result"
    }
   ],
   "source": [
    "test[test['id'] == 30721]"
   ]
  },
  {
   "cell_type": "code",
   "execution_count": 21,
   "id": "7a1a33f6",
   "metadata": {},
   "outputs": [],
   "source": [
    "features = ['kremlin_km', 'leisure_count_500', 'metro_km_walk', 'product_type', 'green_zone_part', 'indust_part', 'trc_count_3000', 'children_preschool', 'preschool_quota', 'price_per_m2', 'price_doc', 'full_sq']\n",
    "bdf = preparator(train[train[\"price_per_m2\"] > 30000][features])"
   ]
  },
  {
   "cell_type": "code",
   "execution_count": 98,
   "id": "503b3af3",
   "metadata": {
    "scrolled": true
   },
   "outputs": [
    {
     "data": {
      "text/plain": [
       "16.70541"
      ]
     },
     "execution_count": 98,
     "metadata": {},
     "output_type": "execute_result"
    }
   ],
   "source": []
  },
  {
   "cell_type": "code",
   "execution_count": 19,
   "id": "caef49cb",
   "metadata": {},
   "outputs": [],
   "source": [
    "def get_features(df, a):\n",
    "    lst = []\n",
    "    for i in df:\n",
    "        col = str(i)\n",
    "        for st in a:\n",
    "            if st in i and i != st:\n",
    "                lst.append(i)\n",
    "    return lst"
   ]
  },
  {
   "cell_type": "code",
   "execution_count": 22,
   "id": "3fe13a2c",
   "metadata": {},
   "outputs": [
    {
     "name": "stdout",
     "output_type": "stream",
     "text": [
      "Fold full 0: msle 0.09312524153629241, mse 10630262939187.137\n",
      "Fold full 1: msle 0.07497687387019589, mse 7338730611216.787\n",
      "Fold full 2: msle 0.07438223961438108, mse 7041520687721.998\n",
      "Fold full 3: msle 0.08056909533989155, mse 6365791710515.416\n",
      "Fold full 4: msle 0.07427176061638918, mse 6387144789661.364\n",
      "MSLE average = 0.07946504219543002, std = 0.0072217544950053565\n"
     ]
    }
   ],
   "source": [
    "features2 = get_features(bdf, [\"kremlin_km\", \"trc_count_3000\"])\n",
    "features2+= [\"leisure_count_500\", \"metro_km_walk\",\"indust_part\"]\n",
    "\n",
    "comp_mse(bdf.fillna(0), features2)\n",
    "prepare_data(preparator, preparator)\n",
    "predict_n_write_csv(features2, \"cool.csv\")"
   ]
  },
  {
   "cell_type": "markdown",
   "id": "837887ae",
   "metadata": {},
   "source": [
    "# Score 0.34433\n"
   ]
  },
  {
   "cell_type": "markdown",
   "id": "f95d132f",
   "metadata": {},
   "source": [
    "Теперь посмотрим как падал score"
   ]
  },
  {
   "cell_type": "code",
   "execution_count": 76,
   "id": "e73e4006",
   "metadata": {},
   "outputs": [
    {
     "data": {
      "text/plain": [
       "<matplotlib.legend.Legend at 0x7f8a5f63dca0>"
      ]
     },
     "execution_count": 76,
     "metadata": {},
     "output_type": "execute_result"
    },
    {
     "data": {
      "image/png": "[encoded data removed]",
      "text/plain": [
       "<Figure size 432x288 with 1 Axes>"
      ]
     },
     "metadata": {
      "needs_background": "light"
     },
     "output_type": "display_data"
    }
   ],
   "source": [
    "data = [(0.7279934116537219, 1.78762), (0.3442691858148595, 0.37692), (0.4712097699120553, 0.37409), (0.07946504219543002, 0.34433)]\n",
    "df = pd.DataFrame({\"kegel\":[item[1] for item in data], \"my\":[item[0] for item in data]})\n",
    "plt.plot(df)\n",
    "plt.legend([\"kegel'\", \"my\"])\n"
   ]
  },
  {
   "cell_type": "markdown",
   "id": "a8f2c83d",
   "metadata": {},
   "source": [
    "Фигово, но могло быть хуже"
   ]
  }
 ],
 "metadata": {
  "kernelspec": {
   "display_name": "Python 3 (ipykernel)",
   "language": "python",
   "name": "python3"
  },
  "language_info": {
   "codemirror_mode": {
    "name": "ipython",
    "version": 3
   },
   "file_extension": ".py",
   "mimetype": "text/x-python",
   "name": "python",
   "nbconvert_exporter": "python",
   "pygments_lexer": "ipython3",
   "version": "3.8.10"
  }
 },
 "nbformat": 4,
 "nbformat_minor": 5
}
